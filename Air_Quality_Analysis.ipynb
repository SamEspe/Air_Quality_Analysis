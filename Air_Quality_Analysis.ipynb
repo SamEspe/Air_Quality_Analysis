{
 "cells": [
  {
   "cell_type": "markdown",
   "id": "210ed013",
   "metadata": {},
   "source": [
    "# Air Quality Analysis\n",
    "## Contributor: Sam Espe\n",
    "---\n",
    "\n",
    "This is a self-guided project to look into EPA air quality data."
   ]
  },
  {
   "cell_type": "markdown",
   "id": "2916c483",
   "metadata": {},
   "source": [
    "#### Functions"
   ]
  },
  {
   "cell_type": "code",
   "execution_count": 1,
   "id": "87aac7b8",
   "metadata": {},
   "outputs": [],
   "source": [
    "#Import dependencies\n",
    "\n",
    "import pandas as pd\n",
    "import numpy as np\n",
    "from matplotlib import pyplot as plt"
   ]
  },
  {
   "cell_type": "code",
   "execution_count": 2,
   "id": "10a81c8b",
   "metadata": {},
   "outputs": [],
   "source": [
    "# Generalize processing raw CSV\n",
    "\n",
    "def clean_data(raw_csv_path):\n",
    "    # Clear variables\n",
    "    column_names = []\n",
    "    \n",
    "    # Read in raw data\n",
    "    data_path = raw_csv_path\n",
    "    raw_dataframe = pd.read_csv(raw_csv_path)\n",
    "    \n",
    "    # Drop unnecessary columns\n",
    "    raw_df_dropped = raw_dataframe.drop(columns = [\"Source\", \"Site ID\", \"DAILY_OBS_COUNT\", \"PERCENT_COMPLETE\", \n",
    "                                                   \"AQS_PARAMETER_CODE\", \"AQS_PARAMETER_DESC\", \"CBSA_CODE\", \n",
    "                                                   \"CBSA_NAME\", \"COUNTY_CODE\", \"STATE_CODE\", \"STATE\"])\n",
    "    \n",
    "    # Rename columns\n",
    "    column_names = {\"Date\": \"Date\", \"POC\": \"POC\", \"Daily Mean PM2.5 Concentration\": \"Day_Mean_PM25_Conc\", \"UNITS\": \"Units\", \n",
    "           \"DAILY_AQI_VALUE\":\"Daily_AQI\", \"Site Name\": \"Site_Name\", \"COUNTY\": \"County\", \"SITE_LATITUDE\": \"Latitude\",\n",
    "          \"SITE_LONGITUDE\": \"Longitude\"}\n",
    "    \n",
    "    raw_df_renamed = raw_df_dropped.rename(columns = column_names)\n",
    "    \n",
    "    # Change date column to datetime \n",
    "    raw_df_renamed[\"Date\"] = pd.to_datetime(raw_df_renamed[\"Date\"])\n",
    "    \n",
    "    # Add \"AQI_Concern\" column to reflect AQI category names\n",
    "    raw_df_renamed[\"AQI_Concern\"] = np.where(raw_df_renamed[\"Daily_AQI\"] <= 50, \"Good\", \n",
    "                                                     np.where(raw_df_renamed[\"Daily_AQI\"] <= 100, \"Moderate\", \n",
    "                                                              np.where(raw_df_renamed[\"Daily_AQI\"] <= 150, \"Unhealthy for Sensitive Groups\", \n",
    "                                                                       np.where(raw_df_renamed[\"Daily_AQI\"] <= 200, \"Unhealthy\", \n",
    "                                                                                np.where(raw_df_renamed[\"Daily_AQI\"] <= 300, \"Very Unhealthy\", \"Hazardous\")))))\n",
    "    \n",
    "    return raw_df_renamed "
   ]
  },
  {
   "cell_type": "code",
   "execution_count": 3,
   "id": "84258c6e",
   "metadata": {},
   "outputs": [],
   "source": [
    "# Generalize separating location data and identifying POC with most data\n",
    "\n",
    "def data_split(raw_df_name, state, pollutant_name, year):\n",
    "    # Clear variables\n",
    "    location_list = []\n",
    "    data_dict = {}\n",
    "    \n",
    "    # Create list of unique locations\n",
    "    location_list = raw_df_name[\"Site_Name\"].unique().tolist()\n",
    "    for location in location_list:\n",
    "        location_df = raw_df_name.loc[raw_df_name[\"Site_Name\"] == location]\n",
    "        poc_list_location = dict(location_df.value_counts(\"POC\"))\n",
    "    \n",
    "        # Choose POC with most data\n",
    "        if len(poc_list_location) > 1:\n",
    "            location_df = location_df.loc[location_df[\"POC\"] == max(poc_list_location, key = poc_list_location.get)]\n",
    "    \n",
    "        location_standard_name = location.replace(' ', '_').replace('/', \"_\").replace(\":\", \"\").replace(\"-\", \"\").replace(\".\", \"\")\n",
    "        new_name = f\"{location_standard_name}_{state}_{pollutant_name}_{year}\"\n",
    "        data_dict[new_name] = location_df\n",
    "        \n",
    "    return data_dict"
   ]
  },
  {
   "cell_type": "code",
   "execution_count": 4,
   "id": "e91e56ad",
   "metadata": {},
   "outputs": [],
   "source": [
    "# Generalize the color-coded scatter plot process\n",
    "\n",
    "def scatter_plot_color(df_name, pollutant_name, location_name, year):\n",
    "    moderate_bound = 50\n",
    "    unhealthy_for_special_groups_bound = 100\n",
    "    unhealthy_bound = 150\n",
    "    very_unhealthy_bound = 200\n",
    "    hazardous_bound = 300\n",
    "\n",
    "    x_values = df_name[\"Date\"]\n",
    "    y_values = df_name[\"Daily_AQI\"]\n",
    "    \n",
    "    good = np.ma.masked_where(y_values > moderate_bound, y_values)\n",
    "    moderate = np.ma.masked_where((y_values <= moderate_bound) | (y_values > unhealthy_for_special_groups_bound), y_values)\n",
    "    unhealthy_special_groups = np.ma.masked_where((y_values <= unhealthy_for_special_groups_bound) | (y_values > unhealthy_bound), y_values)\n",
    "    unhealthy = np.ma.masked_where((y_values <= unhealthy_bound) | (y_values > very_unhealthy_bound), y_values)\n",
    "    very_unhealthy = np.ma.masked_where((y_values <= very_unhealthy_bound) | (y_values > hazardous_bound), y_values)\n",
    "    hazardous = np.ma.masked_where(y_values <= hazardous_bound, y_values)\n",
    "    \n",
    "    fig, ax = plt.subplots()\n",
    "    ax.scatter(x_values, good, color = 'green', marker = '.')\n",
    "    ax.scatter(x_values, moderate, color = 'yellow', marker = '.')\n",
    "    ax.scatter(x_values, unhealthy_special_groups, color = 'orange', marker = '.')\n",
    "    ax.scatter(x_values, unhealthy, color = 'red', marker = '.')\n",
    "    ax.scatter(x_values, very_unhealthy, color = 'purple', marker = '.')\n",
    "    ax.scatter(x_values, hazardous, color = 'maroon', marker = '.')\n",
    "\n",
    "    plt.xlabel(\"Date\")\n",
    "    plt.ylabel(\"Air Quality Index\")\n",
    "    plt.title(f'{pollutant_name} AQI for {location_name} in {year}')\n",
    "    \n",
    "    plt.show()"
   ]
  },
  {
   "cell_type": "markdown",
   "id": "bce27fbb",
   "metadata": {},
   "source": [
    "#### MN PM 2.5 data for 2022"
   ]
  },
  {
   "cell_type": "code",
   "execution_count": null,
   "id": "4b229814",
   "metadata": {},
   "outputs": [],
   "source": []
  }
 ],
 "metadata": {
  "kernelspec": {
   "display_name": "PythonData38",
   "language": "python",
   "name": "pythondata38"
  },
  "language_info": {
   "codemirror_mode": {
    "name": "ipython",
    "version": 3
   },
   "file_extension": ".py",
   "mimetype": "text/x-python",
   "name": "python",
   "nbconvert_exporter": "python",
   "pygments_lexer": "ipython3",
   "version": "3.11.3"
  }
 },
 "nbformat": 4,
 "nbformat_minor": 5
}
