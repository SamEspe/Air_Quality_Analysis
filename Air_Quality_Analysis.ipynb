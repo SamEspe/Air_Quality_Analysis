{
 "cells": [
  {
   "cell_type": "code",
   "execution_count": 1,
   "id": "87aac7b8",
   "metadata": {},
   "outputs": [],
   "source": [
    "import pandas as pd"
   ]
  },
  {
   "cell_type": "code",
   "execution_count": 2,
   "id": "62b2629c",
   "metadata": {},
   "outputs": [],
   "source": [
    "raw_data_2022_mn_pm25 = \"Data/2022_MN_PM_25.csv\""
   ]
  },
  {
   "cell_type": "code",
   "execution_count": 5,
   "id": "c9db8bc5",
   "metadata": {},
   "outputs": [],
   "source": [
    "df_raw_2022_mn_pm25 = pd.read_csv(raw_data_2022_mn_pm25)"
   ]
  },
  {
   "cell_type": "code",
   "execution_count": null,
   "id": "35a88112",
   "metadata": {},
   "outputs": [],
   "source": []
  }
 ],
 "metadata": {
  "kernelspec": {
   "display_name": "Python 3 (ipykernel)",
   "language": "python",
   "name": "python3"
  },
  "language_info": {
   "codemirror_mode": {
    "name": "ipython",
    "version": 3
   },
   "file_extension": ".py",
   "mimetype": "text/x-python",
   "name": "python",
   "nbconvert_exporter": "python",
   "pygments_lexer": "ipython3",
   "version": "3.10.12"
  }
 },
 "nbformat": 4,
 "nbformat_minor": 5
}
